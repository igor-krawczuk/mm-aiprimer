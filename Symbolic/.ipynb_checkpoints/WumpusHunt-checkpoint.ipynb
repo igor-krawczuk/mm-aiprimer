{
 "cells": [
  {
   "cell_type": "markdown",
   "metadata": {},
   "source": [
    "# The Wumpushunt\n",
    "\n",
    "1. Goal: get to the Exit. You can move **N**,**S**,**W**,**E**\n",
    "2. Wumpus stinks=> every cell adjacent to wumpus smells\n",
    "3. Black hole drafts => every cell adjacent to hole drafts\n",
    "4. Close world assumption: everything not encoded in your knowledge base is false!\n",
    "\n",
    "![Your challenge awats Grace!](Labyrinth.png \"\")\n",
    "\n",
    "Below is an example on how to start modeling this in prolog"
   ]
  },
  {
   "cell_type": "code",
   "execution_count": 1,
   "metadata": {
    "collapsed": false
   },
   "outputs": [],
   "source": [
    "from pyswip import Prolog\n",
    "from pyswip import cleanupProlog"
   ]
  },
  {
   "cell_type": "code",
   "execution_count": 2,
   "metadata": {
    "collapsed": false
   },
   "outputs": [],
   "source": [
    "# only run this once, restart kernel if change\n",
    "prolog = Prolog() \n",
    "prolog.assertz(\"alive(X):-not(dead(X))\")\n",
    "prolog.assertz(\"dead(X):-hero_eaten(X);hero_fallen(X)\") \n",
    "prolog.assertz(\"hero_eaten(X):-wumpus_in_field(P),hero_in_field(X,P)\")\n",
    "prolog.assertz(\"hero_fallen(X):-pit_in_field(P),hero_in_field(X,P)\") \n",
    "prolog.assertz(\"wumpus_in_field(a1)\")\n",
    "prolog.assertz(\"pit_in_field(a3)\")\n",
    "\n",
    "prolog.assertz(\"hero_in_field(grace,a2)\")\n",
    "prolog.assertz(\"hero_in_field(cooper,a1)\")\n",
    "#list(prolog.query(\"alive(X)\")) "
   ]
  },
  {
   "cell_type": "code",
   "execution_count": 5,
   "metadata": {
    "collapsed": false
   },
   "outputs": [
    {
     "data": {
      "text/plain": [
       "[{'X': 'cooper'}]"
      ]
     },
     "execution_count": 5,
     "metadata": {},
     "output_type": "execute_result"
    }
   ],
   "source": [
    "list(prolog.query(\"wumpus_in_field(X)\"))\n",
    "list(prolog.query(\"dead(X)\"))"
   ]
  },
  {
   "cell_type": "markdown",
   "metadata": {},
   "source": [
    "# Riddles\n",
    "1. What unspoken assumptions have we made so far?\n",
    "2. What do you need to model to capture all of the rules above?\n",
    " "
   ]
  }
 ],
 "metadata": {
  "kernelspec": {
   "display_name": "Python 3",
   "language": "python",
   "name": "python3"
  },
  "language_info": {
   "codemirror_mode": {
    "name": "ipython",
    "version": 3
   },
   "file_extension": ".py",
   "mimetype": "text/x-python",
   "name": "python",
   "nbconvert_exporter": "python",
   "pygments_lexer": "ipython3",
   "version": "3.5.2"
  }
 },
 "nbformat": 4,
 "nbformat_minor": 2
}
