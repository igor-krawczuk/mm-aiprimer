{
 "cells": [
  {
   "cell_type": "markdown",
   "metadata": {},
   "source": [
    "Documentation here\n",
    "http://pythonhosted.org/Owlready/index.html\n",
    "\n",
    "Below we load a pizza ontology, add a new class of pizza which we want to detection, specify a pizza which we have and let the ontology resolve what class of pizza we have"
   ]
  },
  {
   "cell_type": "code",
   "execution_count": 14,
   "metadata": {
    "collapsed": false
   },
   "outputs": [
    {
     "data": {
      "text/plain": [
       "<Ontology pizza_onto>"
      ]
     },
     "execution_count": 14,
     "metadata": {},
     "output_type": "execute_result"
    }
   ],
   "source": [
    "from owlready import *\n",
    "onto = get_ontology(\"http://www.lesfleursdunormal.fr/static/_downloads/pizza_onto.owl\")\n",
    "onto.load()"
   ]
  },
  {
   "cell_type": "code",
   "execution_count": 15,
   "metadata": {
    "collapsed": false
   },
   "outputs": [
    {
     "data": {
      "text/plain": [
       "pizza_onto.Pizza"
      ]
     },
     "execution_count": 15,
     "metadata": {},
     "output_type": "execute_result"
    }
   ],
   "source": [
    "onto.Pizza"
   ]
  },
  {
   "cell_type": "code",
   "execution_count": 16,
   "metadata": {
    "collapsed": true
   },
   "outputs": [],
   "source": [
    "class NonVegetarianPizza(onto.Pizza):\n",
    "   equivalent_to = [\n",
    "     onto.Pizza\n",
    "   & ( restriction(\"has_topping\", SOME, onto.MeatTopping)\n",
    "     | restriction(\"has_topping\", SOME, onto.FishTopping)\n",
    "     ) ]\n",
    "   def eat(self): print(\"Beurk! I'm vegetarian!\")"
   ]
  },
  {
   "cell_type": "code",
   "execution_count": 17,
   "metadata": {
    "collapsed": false
   },
   "outputs": [],
   "source": [
    "test_pizza = onto.Pizza(\"test_pizza_owl_identifier\")\n",
    "test_pizza.has_topping = [ onto.CheeseTopping(),\n",
    "                            onto.TomatoTopping(),\n",
    "                            onto.MeatTopping  () ]"
   ]
  },
  {
   "cell_type": "code",
   "execution_count": 18,
   "metadata": {
    "collapsed": false
   },
   "outputs": [
    {
     "name": "stderr",
     "output_type": "stream",
     "text": [
      "* Owlready * Running HermiT...\n",
      "    java -Xmx2000M -cp /usr/lib/python3.5/site-packages/owlready/hermit:/usr/lib/python3.5/site-packages/owlready/hermit/HermiT.jar org.semanticweb.HermiT.cli.CommandLine -c -O -D -I file:////tmp/tmpxcemarjm\n",
      "* Owlready * HermiT took 0.5715539455413818 seconds\n",
      "* Owlready * Reparenting test_pizza_owl_identifier_3: {pizza_onto.Pizza} => {pizza_onto.NonVegetarianPizza}\n",
      "* Owlready * Reparenting test_pizza_owl_identifier_2: {pizza_onto.NonVegetarianPizza} => {pizza_onto.NonVegetarianPizza}\n",
      "* Owlready * Reparenting test_pizza_owl_identifier: {pizza_onto.NonVegetarianPizza} => {pizza_onto.NonVegetarianPizza}\n"
     ]
    }
   ],
   "source": [
    "onto.sync_reasoner()"
   ]
  },
  {
   "cell_type": "code",
   "execution_count": 19,
   "metadata": {
    "collapsed": false
   },
   "outputs": [
    {
     "data": {
      "text/plain": [
       "pizza_onto.NonVegetarianPizza"
      ]
     },
     "execution_count": 19,
     "metadata": {},
     "output_type": "execute_result"
    }
   ],
   "source": [
    "onto.NonVegetarianPizza"
   ]
  },
  {
   "cell_type": "code",
   "execution_count": 12,
   "metadata": {
    "collapsed": false
   },
   "outputs": [
    {
     "name": "stdout",
     "output_type": "stream",
     "text": [
      "Beurk! I'm vegetarian!\n"
     ]
    }
   ],
   "source": [
    "test_pizza.eat()"
   ]
  },
  {
   "cell_type": "code",
   "execution_count": null,
   "metadata": {
    "collapsed": true
   },
   "outputs": [],
   "source": []
  }
 ],
 "metadata": {
  "kernelspec": {
   "display_name": "Python 3",
   "language": "python",
   "name": "python3"
  },
  "language_info": {
   "codemirror_mode": {
    "name": "ipython",
    "version": 3
   },
   "file_extension": ".py",
   "mimetype": "text/x-python",
   "name": "python",
   "nbconvert_exporter": "python",
   "pygments_lexer": "ipython3",
   "version": "3.5.2"
  }
 },
 "nbformat": 4,
 "nbformat_minor": 2
}
